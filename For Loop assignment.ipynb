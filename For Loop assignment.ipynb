{
 "cells": [
  {
   "cell_type": "code",
   "execution_count": null,
   "id": "2b41ef91-7fbc-4ffb-9a87-6d339bf4aebf",
   "metadata": {},
   "outputs": [],
   "source": [
    "#Question1\n",
    "for i in range(1,11):\n",
    "    print (i)"
   ]
  },
  {
   "cell_type": "code",
   "execution_count": null,
   "id": "21332c3d-4b0f-41ab-a0a5-72d07082c66a",
   "metadata": {},
   "outputs": [],
   "source": [
    "#Question 2\n",
    "j=0\n",
    "l = list(range(1,10))\n",
    "for i in l:\n",
    "    j = (i+j)\n",
    "print(j)"
   ]
  },
  {
   "cell_type": "code",
   "execution_count": null,
   "id": "5b1cd1b7-c620-4f3b-8cb4-7d8609dc140e",
   "metadata": {},
   "outputs": [],
   "source": [
    "#Question 3\n",
    "s = 'string'\n",
    "\n",
    "for i in s[::-1]:\n",
    "    print(i)"
   ]
  },
  {
   "cell_type": "code",
   "execution_count": null,
   "id": "287b0c52-62f5-470c-9fb8-ffdd7f3e5ea3",
   "metadata": {},
   "outputs": [],
   "source": [
    "#Question 4\n",
    "n = int(input('Enter the number'))\n",
    "fac =1\n",
    "for i in range(1,n+1):\n",
    "    fac = fac*i\n",
    "    \n",
    "print(fac)"
   ]
  },
  {
   "cell_type": "code",
   "execution_count": null,
   "id": "4874e9f2-d502-4a77-9c45-aff527cafd9d",
   "metadata": {},
   "outputs": [],
   "source": [
    "# Question 5\n",
    "n = int(input(('enter the number')))\n",
    "last_num = int(input('enter the last multiplier of the table'))\n",
    "        \n",
    "for i in range(1, last_num+1):\n",
    "    table = n*i\n",
    "    print(table)\n",
    "                     \n",
    "\n",
    "    "
   ]
  },
  {
   "cell_type": "code",
   "execution_count": null,
   "id": "f16bb9e4-5335-4e54-8d83-9b0431cd36f5",
   "metadata": {},
   "outputs": [],
   "source": [
    "#Question 6\n",
    "lst = [0,1,2,4,5,6,7,8,9,10]\n",
    "j = 0\n",
    "h = 0\n",
    "\n",
    "for i in lst:\n",
    "    if i>0:\n",
    "        if i % 2 == 0:\n",
    "            j = j+1\n",
    "        else:\n",
    "            h = h+1\n",
    "    \n",
    "    \n",
    "print(j)\n",
    "print(h)"
   ]
  },
  {
   "cell_type": "code",
   "execution_count": null,
   "id": "4bf63450-ddfa-435d-89b2-08c2f6d8bd98",
   "metadata": {},
   "outputs": [],
   "source": [
    "#Question 7\n",
    "a = [1,2,3,4,5]\n",
    "\n",
    "for i in a:\n",
    "    print(i*i)"
   ]
  },
  {
   "cell_type": "code",
   "execution_count": null,
   "id": "c3bb8717-2ba6-42a7-8d13-6dbeff662638",
   "metadata": {},
   "outputs": [],
   "source": [
    "#Question 8\n",
    "s = 'stringsgrwgr'\n",
    "j = 0\n",
    "for i in s[0::]:\n",
    "    j = j+1\n",
    "print(j)"
   ]
  },
  {
   "cell_type": "code",
   "execution_count": null,
   "id": "d3ba564d-5c89-475f-b8f3-c4c8f9cd79fc",
   "metadata": {},
   "outputs": [],
   "source": [
    "#Question 9\n",
    "b = [1,2,5,6,7,8,9]\n",
    "c= 0\n",
    "for i in b:\n",
    "    c = i+c\n",
    "average = c/len(b)\n",
    "print(average)"
   ]
  },
  {
   "cell_type": "code",
   "execution_count": null,
   "id": "4a7867a8-008a-49a0-b3b2-35c2b0ded9ab",
   "metadata": {},
   "outputs": [],
   "source": [
    "#Question 10\n",
    "c = int(input('enter the number'))\n",
    "first = 0\n",
    "second = 1\n",
    "print(first)\n",
    "\n",
    "for i in range(1,c+1):\n",
    "    third = first+second\n",
    "    print(third)\n",
    "    first = second\n",
    "    second = third\n",
    "    \n",
    "\n",
    "          "
   ]
  },
  {
   "cell_type": "code",
   "execution_count": null,
   "id": "831874be-54fd-4c78-b495-44fbfa180107",
   "metadata": {},
   "outputs": [],
   "source": [
    "#Question 11\n",
    "lst = [1,3,4,5,4,4]\n",
    "d = []\n",
    "f = []\n",
    "for i in lst:\n",
    "    if i not in d:\n",
    "        d.append(i)\n",
    "    else:\n",
    "        f.append(i)\n",
    "print(f)"
   ]
  },
  {
   "cell_type": "code",
   "execution_count": null,
   "id": "7ee44a25-15c1-4d75-9260-896ff296cf23",
   "metadata": {},
   "outputs": [],
   "source": [
    "#Question 12\n",
    "n = 19\n",
    "\n",
    "for i in range(2,n):\n",
    "    if n%i== 0:\n",
    "        print('not a prime')\n",
    "        break\n",
    "else:\n",
    "            print('prime')"
   ]
  },
  {
   "cell_type": "code",
   "execution_count": null,
   "id": "26d42a6e-2566-410b-8834-64dc2b6e0e61",
   "metadata": {},
   "outputs": [],
   "source": [
    "list(range(9))"
   ]
  },
  {
   "cell_type": "code",
   "execution_count": null,
   "id": "d426832e-802f-412f-a4b7-66a6f0e7bb1f",
   "metadata": {},
   "outputs": [],
   "source": [
    "#Question 13\n",
    "\n",
    "vowels = ['a','e','i','o','u']\n",
    "\n",
    "string = input('enter the string:')\n",
    "count = 0\n",
    "for i in string[0:]:\n",
    "    if i in vowels:\n",
    "        count = count+1\n",
    "print('count of vowels is',count)"
   ]
  },
  {
   "cell_type": "code",
   "execution_count": null,
   "id": "37c8cedd-533e-4076-a614-e9028f6120b1",
   "metadata": {},
   "outputs": [],
   "source": [
    "#Question 15\n",
    "lst = [1,2,3,'str',6,7,8,9,10,3,3,3,3]\n",
    "a = int(input('enter the element'))\n",
    "f = []\n",
    "d = []\n",
    "for i in lst:\n",
    "    if i == a:\n",
    "        d.append(i)\n",
    "    else:\n",
    "        f.append(i)\n",
    "print('removed occurence list is',f)"
   ]
  },
  {
   "cell_type": "code",
   "execution_count": null,
   "id": "6d0e9b82-f0f7-48b0-896e-38309b731896",
   "metadata": {},
   "outputs": [],
   "source": [
    "#Question 16\n",
    "numbers = [2,3,4,5]\n",
    "last_multiple = list(range(1,11))\n",
    "for i in numbers:\n",
    "    for j in last_multiple:\n",
    "        table = i*j\n",
    "        print(table)\n",
    "\n"
   ]
  },
  {
   "cell_type": "code",
   "execution_count": null,
   "id": "985767ac-4c1e-409d-9a6c-720891a33f11",
   "metadata": {},
   "outputs": [],
   "source": [
    "#Question 17\n",
    "f = [3,4,5,6]\n",
    "\n",
    "for i in f:\n",
    "    celsius = (i-32)*(5/9)\n",
    "    print(celsius)"
   ]
  },
  {
   "cell_type": "code",
   "execution_count": null,
   "id": "99d443b5-a8a0-45f7-b5bf-afbe3a255be8",
   "metadata": {},
   "outputs": [],
   "source": [
    "#Question 18\n",
    "l1 = [2,3,4,5,6]\n",
    "l2 = [5,6,7,8,9,10]\n",
    "\n",
    "for i in l1:\n",
    "    for j in l2:\n",
    "        if i==j:\n",
    "            print(i)"
   ]
  },
  {
   "cell_type": "code",
   "execution_count": null,
   "id": "e512dd00-73c1-4beb-9523-463096ea5c3b",
   "metadata": {},
   "outputs": [],
   "source": [
    "#Question 19\n",
    "l = range(9)\n",
    "\n",
    "for i in l:\n",
    "    for j in range(i+1):\n",
    "        print('*', end = ' ')\n",
    "    print()"
   ]
  },
  {
   "cell_type": "code",
   "execution_count": null,
   "id": "96279263-94fe-4ed3-add5-57ae20680997",
   "metadata": {},
   "outputs": [],
   "source": [
    "#Question 20\n",
    "a = 200\n",
    "b = 40\n",
    "m = min(a,b)\n",
    "l = range(1,m+1)\n",
    "d = []\n",
    "\n",
    "for i in l:\n",
    "    if a%i ==0 and b%i ==0:\n",
    "        d.append(i)\n",
    "print('gcd of the numbers is', max(d))"
   ]
  },
  {
   "cell_type": "code",
   "execution_count": 75,
   "id": "555ad690-32d2-417a-aa50-5d3684d6dcda",
   "metadata": {},
   "outputs": [
    {
     "name": "stdout",
     "output_type": "stream",
     "text": [
      "[1, 4, 14, 12, 11, 10, 7, 7, 16, 13]\n"
     ]
    }
   ],
   "source": [
    "#Question 21\n",
    "lst = [1,4,68,93,56,73,43,25,79,94]\n",
    "\n",
    "add = [sum(map(int, str(i))) for i in lst]\n",
    "\n",
    "print(add)"
   ]
  },
  {
   "cell_type": "code",
   "execution_count": null,
   "id": "d7ccaa26-6067-4bb4-afb9-73186549c090",
   "metadata": {},
   "outputs": [],
   "source": [
    "#Question 22\n",
    "n = 40\n",
    "d =[]\n",
    "\n",
    "for i in range(2,n+1):\n",
    "    if n%i ==0:\n",
    "        d.append(i)\n",
    "print(d)"
   ]
  },
  {
   "cell_type": "code",
   "execution_count": null,
   "id": "a05ef844-4bb9-47f6-8c11-2bfbeba50827",
   "metadata": {},
   "outputs": [],
   "source": [
    "f=[]\n",
    "for j in d:\n",
    "    for s in range(2,j):\n",
    "        if j%s == 0:\n",
    "            break\n",
    "        else:\n",
    "            f.append(j)\n",
    "print(f)"
   ]
  },
  {
   "cell_type": "code",
   "execution_count": null,
   "id": "993f1bfc-01fb-458c-9d57-db57fd064fcf",
   "metadata": {},
   "outputs": [],
   "source": [
    "#Question 23\n",
    "lst = [1,2,3,4,4,4]\n",
    "e =[]\n",
    "for i in lst:\n",
    "    if i not in e:\n",
    "            e.append(i)\n",
    "print(e)"
   ]
  },
  {
   "cell_type": "code",
   "execution_count": null,
   "id": "7d1d52dc-6d07-4fe9-8133-bc85cd3a9673",
   "metadata": {},
   "outputs": [],
   "source": [
    "lst = [1,2,3,4,4,4]\n",
    "new = []\n",
    "[new.append(i) for i in lst if i not in new]\n",
    "print(new)"
   ]
  },
  {
   "cell_type": "code",
   "execution_count": null,
   "id": "bcb1eb7a-b23a-436d-b85b-66ed1fba273b",
   "metadata": {},
   "outputs": [],
   "source": [
    "ls = range(1,50)\n",
    "pal = []\n",
    "[pal.append(i) for i in ls if i == i+1 ls]"
   ]
  },
  {
   "cell_type": "code",
   "execution_count": null,
   "id": "ed2fa992-c696-44f8-a3f0-1d2b59f24eea",
   "metadata": {},
   "outputs": [],
   "source": [
    "#Question 26\n",
    "lst = [2,3,4,5,6]\n",
    "even = 0\n",
    "odd = 0\n",
    "for i in lst:\n",
    "    if i%2 == 0:\n",
    "        even = even +i\n",
    "    else:\n",
    "        odd = odd + i\n",
    "print(even)\n",
    "print(odd)"
   ]
  },
  {
   "cell_type": "code",
   "execution_count": null,
   "id": "ff17531e-a46c-450d-9290-e701d7264fb3",
   "metadata": {},
   "outputs": [],
   "source": [
    "#Question 27\n",
    "lt = [2,3,4,5,6,7]\n",
    "\n",
    "even = [x**2 for x in lt if x%2 == 0]\n",
    "odd = [x**2 for x in lt if x%2 > 0]\n",
    "print(even, odd)"
   ]
  },
  {
   "cell_type": "code",
   "execution_count": null,
   "id": "34cba7d0-a044-42db-808a-233c103e54b4",
   "metadata": {},
   "outputs": [],
   "source": [
    "l1 = ['name', 'time']\n",
    "l2 = ['pw', 'skills']\n",
    "\n",
    "l3 = dict(zip(l1,l2))\n",
    "l3"
   ]
  },
  {
   "cell_type": "code",
   "execution_count": null,
   "id": "7e4238eb-f744-4522-9deb-ff027c09f3e8",
   "metadata": {},
   "outputs": [],
   "source": [
    "#Question 29\n",
    "string = 'stringousvsdvf'\n",
    "vowels = ['a','e','i','o','u']\n",
    "\n",
    "[x for x in string[0::] if x in vowels]"
   ]
  },
  {
   "cell_type": "code",
   "execution_count": null,
   "id": "2293e988-35af-4fb8-8a73-605b6963361d",
   "metadata": {},
   "outputs": [],
   "source": [
    "#Question 30\n",
    "ls = ['d', 2,3,4,'gf', 3+2j]\n",
    "\n",
    "new = [x for x in ls if isinstance(x,(int,float,complex))]\n",
    "new"
   ]
  },
  {
   "cell_type": "code",
   "execution_count": null,
   "id": "2a850482-2f89-4b99-8948-6ac9adbfc12f",
   "metadata": {},
   "outputs": [],
   "source": [
    "#Question 31\n",
    "import math\n",
    "number = 100\n",
    "primes =[]\n",
    "\n",
    "for i in range(2,number+1):\n",
    "    primes.append(i)\n",
    "    \n",
    "i =2\n",
    "while (i<= int(math.sqrt(number))):\n",
    "       if i in primes:\n",
    "            for j in range(i*2, number+1, i):\n",
    "                if j in primes:\n",
    "                    primes.remove(j)\n",
    "i+1\n",
    "\n",
    "print(primes)"
   ]
  },
  {
   "cell_type": "code",
   "execution_count": 2,
   "id": "69ebb1f3-5056-48fc-9e7f-bdd2d2502a25",
   "metadata": {},
   "outputs": [
    {
     "name": "stdout",
     "output_type": "stream",
     "text": [
      "[(3, 4, 5), (6, 8, 10)]\n"
     ]
    }
   ],
   "source": [
    "#Question 32\n",
    "n = 10\n",
    "pyth = [(a,b,c,) for a in range(1, n+1) for b in range(a, n+1) for c in range(b, n+1) if (a**2 +b**2 == c**2)]\n",
    "print(pyth)"
   ]
  },
  {
   "cell_type": "code",
   "execution_count": 11,
   "id": "029c16b8-c987-4ad2-820f-b620583c27a7",
   "metadata": {},
   "outputs": [
    {
     "name": "stdout",
     "output_type": "stream",
     "text": [
      "[1, 6]\n",
      "[1, 6, 1, 7]\n",
      "[1, 6, 1, 7, 1, 8]\n",
      "[1, 6, 1, 7, 1, 8, 1, 9]\n",
      "[1, 6, 1, 7, 1, 8, 1, 9, 2, 6]\n",
      "[1, 6, 1, 7, 1, 8, 1, 9, 2, 6, 2, 7]\n",
      "[1, 6, 1, 7, 1, 8, 1, 9, 2, 6, 2, 7, 2, 8]\n",
      "[1, 6, 1, 7, 1, 8, 1, 9, 2, 6, 2, 7, 2, 8, 2, 9]\n",
      "[1, 6, 1, 7, 1, 8, 1, 9, 2, 6, 2, 7, 2, 8, 2, 9, 3, 6]\n",
      "[1, 6, 1, 7, 1, 8, 1, 9, 2, 6, 2, 7, 2, 8, 2, 9, 3, 6, 3, 7]\n",
      "[1, 6, 1, 7, 1, 8, 1, 9, 2, 6, 2, 7, 2, 8, 2, 9, 3, 6, 3, 7, 3, 8]\n",
      "[1, 6, 1, 7, 1, 8, 1, 9, 2, 6, 2, 7, 2, 8, 2, 9, 3, 6, 3, 7, 3, 8, 3, 9]\n",
      "[1, 6, 1, 7, 1, 8, 1, 9, 2, 6, 2, 7, 2, 8, 2, 9, 3, 6, 3, 7, 3, 8, 3, 9, 4, 6]\n",
      "[1, 6, 1, 7, 1, 8, 1, 9, 2, 6, 2, 7, 2, 8, 2, 9, 3, 6, 3, 7, 3, 8, 3, 9, 4, 6, 4, 7]\n",
      "[1, 6, 1, 7, 1, 8, 1, 9, 2, 6, 2, 7, 2, 8, 2, 9, 3, 6, 3, 7, 3, 8, 3, 9, 4, 6, 4, 7, 4, 8]\n",
      "[1, 6, 1, 7, 1, 8, 1, 9, 2, 6, 2, 7, 2, 8, 2, 9, 3, 6, 3, 7, 3, 8, 3, 9, 4, 6, 4, 7, 4, 8, 4, 9]\n",
      "[1, 6, 1, 7, 1, 8, 1, 9, 2, 6, 2, 7, 2, 8, 2, 9, 3, 6, 3, 7, 3, 8, 3, 9, 4, 6, 4, 7, 4, 8, 4, 9, 5, 6]\n",
      "[1, 6, 1, 7, 1, 8, 1, 9, 2, 6, 2, 7, 2, 8, 2, 9, 3, 6, 3, 7, 3, 8, 3, 9, 4, 6, 4, 7, 4, 8, 4, 9, 5, 6, 5, 7]\n",
      "[1, 6, 1, 7, 1, 8, 1, 9, 2, 6, 2, 7, 2, 8, 2, 9, 3, 6, 3, 7, 3, 8, 3, 9, 4, 6, 4, 7, 4, 8, 4, 9, 5, 6, 5, 7, 5, 8]\n",
      "[1, 6, 1, 7, 1, 8, 1, 9, 2, 6, 2, 7, 2, 8, 2, 9, 3, 6, 3, 7, 3, 8, 3, 9, 4, 6, 4, 7, 4, 8, 4, 9, 5, 6, 5, 7, 5, 8, 5, 9]\n"
     ]
    }
   ],
   "source": [
    "#Question 33\n",
    "l1= [1,2,3,4,5]\n",
    "l2 = [6,7,8,9]\n",
    "l3 =[]\n",
    "\n",
    "for i in l1:\n",
    "    for j in l2:\n",
    "        l3.append(i)\n",
    "        l3.append(j)\n",
    "        print(l3)"
   ]
  },
  {
   "cell_type": "code",
   "execution_count": 16,
   "id": "9b0bac8e-d3fe-4ce3-b252-f7cb33c18837",
   "metadata": {},
   "outputs": [
    {
     "data": {
      "text/plain": [
       "[3.6]"
      ]
     },
     "execution_count": 16,
     "metadata": {},
     "output_type": "execute_result"
    }
   ],
   "source": [
    "#Question 34\n",
    "l = [1,2,4,5,6]\n",
    "\n",
    "[(sum(l)/len(l)),]\n",
    "\n",
    "\n"
   ]
  },
  {
   "cell_type": "code",
   "execution_count": 19,
   "id": "1ec8a2e9-e3a1-46d3-a7f2-374a25444a0c",
   "metadata": {},
   "outputs": [
    {
     "name": "stdout",
     "output_type": "stream",
     "text": [
      "[[1], [1, 1], [1, 2, 1], [1, 3, 3, 1], [1, 4, 6, 4, 1], [1, 5, 10, 10, 5, 1], [1, 6, 15, 20, 15, 6, 1], [1, 7, 21, 35, 35, 21, 7, 1], [1, 8, 28, 56, 70, 56, 28, 8, 1], [1, 9, 36, 84, 126, 126, 84, 36, 9, 1]]\n"
     ]
    }
   ],
   "source": [
    "#Question 35\n",
    "height = 10\n",
    "from math import factorial\n",
    "tri = [[factorial(n) // (factorial(k) * factorial(n - k)) for k in range(n+1)]\n",
    "  for n in range(height)]\n",
    "\n",
    "print(tri)"
   ]
  },
  {
   "cell_type": "code",
   "execution_count": 34,
   "id": "858940fa-666f-4b6a-8d75-acee2eb57444",
   "metadata": {},
   "outputs": [
    {
     "name": "stdout",
     "output_type": "stream",
     "text": [
      "[2, 120]\n"
     ]
    }
   ],
   "source": [
    "#Question 36\n",
    "n = [2,5]\n",
    "fac_list = []\n",
    "for i in n:\n",
    "    fac = 1\n",
    "    for j in range(1,i+1):\n",
    "        fac = fac*j\n",
    "    fac_list.append(fac)\n",
    "print(fac_list)"
   ]
  },
  {
   "cell_type": "code",
   "execution_count": 66,
   "id": "6f51f00f-93e0-4165-a0fe-a948368d64bb",
   "metadata": {},
   "outputs": [
    {
     "name": "stdout",
     "output_type": "stream",
     "text": [
      "['guava', 'pineapple', 'mandarin orange']\n"
     ]
    }
   ],
   "source": [
    "#Question 38\n",
    "import re\n",
    "\n",
    "fruits = [\"mango\", \"kiwi\", \"strawberry\", \"guava\", \"pineapple\", \"mandarin orange\"]\n",
    "results = [i for i in fruits if len(re.sub(r\"[^aeiou]\", \"\", i)) > 2]\n",
    "print(results)"
   ]
  },
  {
   "cell_type": "code",
   "execution_count": 81,
   "id": "1d7e9344-dfef-482e-81fb-b0c871f7778b",
   "metadata": {},
   "outputs": [],
   "source": [
    "#Question 39\n",
    "lst = range(1,1001)\n",
    "add = [sum(map(int, str(i))) for i in lst]"
   ]
  },
  {
   "cell_type": "code",
   "execution_count": null,
   "id": "f01df29e-bac3-48f9-ada6-0d29875ae5d7",
   "metadata": {},
   "outputs": [],
   "source": [
    "#Question 40\n"
   ]
  }
 ],
 "metadata": {
  "kernelspec": {
   "display_name": "Python 3 (ipykernel)",
   "language": "python",
   "name": "python3"
  },
  "language_info": {
   "codemirror_mode": {
    "name": "ipython",
    "version": 3
   },
   "file_extension": ".py",
   "mimetype": "text/x-python",
   "name": "python",
   "nbconvert_exporter": "python",
   "pygments_lexer": "ipython3",
   "version": "3.10.8"
  }
 },
 "nbformat": 4,
 "nbformat_minor": 5
}
