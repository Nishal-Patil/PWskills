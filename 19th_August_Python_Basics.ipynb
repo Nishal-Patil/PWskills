{
 "cells": [
  {
   "cell_type": "code",
   "execution_count": 28,
   "id": "c3110d34-ca58-4fb1-8a5c-bd66bab33161",
   "metadata": {},
   "outputs": [],
   "source": [
    "x, y = 10, 20"
   ]
  },
  {
   "cell_type": "code",
   "execution_count": 4,
   "id": "77b5f338-f176-4ca2-9336-e0a89eed8f31",
   "metadata": {},
   "outputs": [
    {
     "data": {
      "text/plain": [
       "(10, 20)"
      ]
     },
     "execution_count": 4,
     "metadata": {},
     "output_type": "execute_result"
    }
   ],
   "source": [
    "x,y"
   ]
  },
  {
   "cell_type": "code",
   "execution_count": 25,
   "id": "c79b9196-6c83-4fc1-b9c1-e994ddb3176a",
   "metadata": {},
   "outputs": [],
   "source": [
    "x, y = y, x"
   ]
  },
  {
   "cell_type": "code",
   "execution_count": 27,
   "id": "402d20d5-7907-4d4f-9c7c-88c335288a3a",
   "metadata": {},
   "outputs": [
    {
     "data": {
      "text/plain": [
       "(20, 10)"
      ]
     },
     "execution_count": 27,
     "metadata": {},
     "output_type": "execute_result"
    }
   ],
   "source": [
    "x,y"
   ]
  },
  {
   "cell_type": "code",
   "execution_count": 29,
   "id": "6a5457f9-ce59-42dc-8099-e6208885eec4",
   "metadata": {},
   "outputs": [],
   "source": [
    "#Question 1 is compelted"
   ]
  },
  {
   "cell_type": "code",
   "execution_count": 30,
   "id": "d7adfd3c-7c08-4ae9-a853-d32baaf0b505",
   "metadata": {},
   "outputs": [],
   "source": [
    "#Question 2"
   ]
  },
  {
   "cell_type": "code",
   "execution_count": 34,
   "id": "b8f05f57-d728-40da-924b-809e011b22bf",
   "metadata": {},
   "outputs": [
    {
     "name": "stdin",
     "output_type": "stream",
     "text": [
      " 3\n",
      " 4\n"
     ]
    }
   ],
   "source": [
    "b = float(input())\n",
    "h = float(input())\n",
    "\n",
    "A = float(0.5*b*h)\n",
    "#b = base and h = height"
   ]
  },
  {
   "cell_type": "code",
   "execution_count": 36,
   "id": "1dfc55ad-27fd-4778-9e11-1322d781cd8c",
   "metadata": {},
   "outputs": [
    {
     "data": {
      "text/plain": [
       "6.0"
      ]
     },
     "execution_count": 36,
     "metadata": {},
     "output_type": "execute_result"
    }
   ],
   "source": [
    "A"
   ]
  },
  {
   "cell_type": "code",
   "execution_count": 37,
   "id": "a32b163f-22ed-4638-b281-3adb12d0afb9",
   "metadata": {},
   "outputs": [],
   "source": [
    "#Question3"
   ]
  },
  {
   "cell_type": "code",
   "execution_count": 44,
   "id": "b80c71b9-320e-44d2-ba98-1abb06c6351e",
   "metadata": {},
   "outputs": [
    {
     "name": "stdin",
     "output_type": "stream",
     "text": [
      " 38\n"
     ]
    }
   ],
   "source": [
    "C = float(input())\n",
    "\n",
    "F = float(C*(9/5)+ 32)"
   ]
  },
  {
   "cell_type": "code",
   "execution_count": 46,
   "id": "be895cb2-3eeb-43a2-a559-13e2851e721f",
   "metadata": {},
   "outputs": [
    {
     "data": {
      "text/plain": [
       "100.4"
      ]
     },
     "execution_count": 46,
     "metadata": {},
     "output_type": "execute_result"
    }
   ],
   "source": [
    "F"
   ]
  },
  {
   "cell_type": "code",
   "execution_count": 47,
   "id": "d70ea57a-ea8b-4da7-88a6-c22bdc339dae",
   "metadata": {},
   "outputs": [],
   "source": [
    "#String based questions\n",
    "#Question 1"
   ]
  },
  {
   "cell_type": "code",
   "execution_count": 50,
   "id": "83b057eb-ca64-477a-bc02-0c321910ebf9",
   "metadata": {},
   "outputs": [
    {
     "name": "stdin",
     "output_type": "stream",
     "text": [
      " twitter\n"
     ]
    }
   ],
   "source": [
    "s = str(input())\n",
    "\n",
    "l = len(s)"
   ]
  },
  {
   "cell_type": "code",
   "execution_count": 52,
   "id": "3319b09a-0903-455b-9d56-3586328b8800",
   "metadata": {},
   "outputs": [
    {
     "data": {
      "text/plain": [
       "7"
      ]
     },
     "execution_count": 52,
     "metadata": {},
     "output_type": "execute_result"
    }
   ],
   "source": [
    "l"
   ]
  },
  {
   "cell_type": "code",
   "execution_count": 54,
   "id": "885f0af3-7e8a-4e94-bc8e-434a0af4c1ee",
   "metadata": {},
   "outputs": [],
   "source": [
    "#Question3"
   ]
  },
  {
   "cell_type": "code",
   "execution_count": 56,
   "id": "fa0b23b7-510c-425b-a51b-77700639cb75",
   "metadata": {},
   "outputs": [],
   "source": [
    "g = 'github'"
   ]
  },
  {
   "cell_type": "code",
   "execution_count": 59,
   "id": "8fd1ca0b-5222-4879-962f-b9f1edf0a2e1",
   "metadata": {},
   "outputs": [
    {
     "data": {
      "text/plain": [
       "'buhtig'"
      ]
     },
     "execution_count": 59,
     "metadata": {},
     "output_type": "execute_result"
    }
   ],
   "source": [
    "g[-1::-1]"
   ]
  },
  {
   "cell_type": "code",
   "execution_count": 75,
   "id": "0817f920-09dc-4e2b-a204-7ebfbf22bfea",
   "metadata": {},
   "outputs": [
    {
     "name": "stdin",
     "output_type": "stream",
     "text": [
      " malayalam\n"
     ]
    },
    {
     "name": "stdout",
     "output_type": "stream",
     "text": [
      "it is a palindrome\n"
     ]
    }
   ],
   "source": [
    "p = str(input())\n",
    "\n",
    "if (p== p[::-1]):\n",
    "    print('it is a palindrome')\n",
    "else:\n",
    "    print('not a palindrome')"
   ]
  },
  {
   "cell_type": "code",
   "execution_count": 4,
   "id": "7d51b6f0-bf4f-46cb-a4dd-30680600a412",
   "metadata": {},
   "outputs": [
    {
     "name": "stdin",
     "output_type": "stream",
     "text": [
      " this is a string\n"
     ]
    }
   ],
   "source": [
    "d = str(input())\n",
    "\n",
    "e = d.replace(' ', '')"
   ]
  },
  {
   "cell_type": "code",
   "execution_count": 5,
   "id": "1d6c6a67-428f-4776-be36-7dd6ec4271bc",
   "metadata": {},
   "outputs": [
    {
     "data": {
      "text/plain": [
       "'thisisastring'"
      ]
     },
     "execution_count": 5,
     "metadata": {},
     "output_type": "execute_result"
    }
   ],
   "source": [
    "e"
   ]
  }
 ],
 "metadata": {
  "kernelspec": {
   "display_name": "Python 3 (ipykernel)",
   "language": "python",
   "name": "python3"
  },
  "language_info": {
   "codemirror_mode": {
    "name": "ipython",
    "version": 3
   },
   "file_extension": ".py",
   "mimetype": "text/x-python",
   "name": "python",
   "nbconvert_exporter": "python",
   "pygments_lexer": "ipython3",
   "version": "3.10.8"
  },
  "toc-autonumbering": true,
  "toc-showcode": true,
  "toc-showmarkdowntxt": false,
  "toc-showtags": true
 },
 "nbformat": 4,
 "nbformat_minor": 5
}
