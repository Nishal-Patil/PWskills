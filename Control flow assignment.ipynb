{
 "cells": [
  {
   "cell_type": "code",
   "execution_count": 16,
   "id": "60914550-e34b-432f-b4cc-823512de25ef",
   "metadata": {},
   "outputs": [
    {
     "name": "stdin",
     "output_type": "stream",
     "text": [
      "enter the number -2.3\n"
     ]
    },
    {
     "name": "stdout",
     "output_type": "stream",
     "text": [
      "n is negative\n"
     ]
    }
   ],
   "source": [
    "#Question 1\n",
    "n = float(input('enter the number'))\n",
    "\n",
    "if n == 0:\n",
    "    print('n is zero')\n",
    "else:\n",
    "    if n>0:\n",
    "        print('n is positive')\n",
    "    else:\n",
    "        print('n is negative')"
   ]
  },
  {
   "cell_type": "code",
   "execution_count": 18,
   "id": "6edf5bbe-04c7-4f99-aeae-91fa748c7857",
   "metadata": {},
   "outputs": [
    {
     "name": "stdin",
     "output_type": "stream",
     "text": [
      "enter the age 6\n"
     ]
    },
    {
     "name": "stdout",
     "output_type": "stream",
     "text": [
      "you cannot vote\n"
     ]
    }
   ],
   "source": [
    "#Question 2\n",
    "n = float(input('enter the age'))\n",
    "\n",
    "if n>= 18:\n",
    "    print('you can vote')\n",
    "else:\n",
    "    print('you cannot vote')"
   ]
  },
  {
   "cell_type": "code",
   "execution_count": 20,
   "id": "f75b6814-283a-4d4f-bab5-3aab9ba7cd3c",
   "metadata": {},
   "outputs": [
    {
     "name": "stdin",
     "output_type": "stream",
     "text": [
      "enter the number 1 6\n",
      "enter the number 2 7\n"
     ]
    },
    {
     "name": "stdout",
     "output_type": "stream",
     "text": [
      "n2 is greater than n1\n"
     ]
    }
   ],
   "source": [
    "#Question 3\n",
    "n1 = float(input('enter the number 1'))\n",
    "n2 = float(input('enter the number 2'))\n",
    "\n",
    "if n1==n2:\n",
    "    print('both numbers are equal')\n",
    "else:\n",
    "    if n1>n2:\n",
    "        print('n1 is greater than n2')\n",
    "    else:\n",
    "        print('n2 is greater than n1')"
   ]
  },
  {
   "cell_type": "code",
   "execution_count": 22,
   "id": "70cfff8b-8853-4982-9aa3-1f8845ad0594",
   "metadata": {},
   "outputs": [
    {
     "name": "stdin",
     "output_type": "stream",
     "text": [
      "enter the number of days in the year 365\n"
     ]
    },
    {
     "name": "stdout",
     "output_type": "stream",
     "text": [
      "not a leap year\n"
     ]
    }
   ],
   "source": [
    "#Question 4\n",
    "year = int(input('enter the number of days in the year'))\n",
    "\n",
    "if year>365:\n",
    "    print('leap year')\n",
    "else:\n",
    "    print('not a leap year')"
   ]
  },
  {
   "cell_type": "code",
   "execution_count": 3,
   "id": "1313de5b-f952-4e0e-a3fe-5540f9685d52",
   "metadata": {},
   "outputs": [
    {
     "name": "stdout",
     "output_type": "stream",
     "text": [
      "t it is a consonant\n",
      "h it is a consonant\n",
      "i it is a vowel\n",
      "s it is a consonant\n",
      "i it is a vowel\n",
      "s it is a consonant\n",
      "f it is a consonant\n",
      "u it is a vowel\n",
      "n it is a consonant\n"
     ]
    }
   ],
   "source": [
    "#Question 5\n",
    "string = 'thisisfun'\n",
    "vowels = ['a','e','i','o','u']\n",
    "\n",
    "for i in string[0:]:\n",
    "    if i in vowels:\n",
    "        print(i, 'it is a vowel')\n",
    "    else:\n",
    "        print(i,'it is a consonant')"
   ]
  },
  {
   "cell_type": "code",
   "execution_count": 7,
   "id": "a35abae0-640d-4b55-a5f5-681be3cb209f",
   "metadata": {},
   "outputs": [
    {
     "name": "stdin",
     "output_type": "stream",
     "text": [
      "enter the number 9\n"
     ]
    },
    {
     "name": "stdout",
     "output_type": "stream",
     "text": [
      "n is odd\n"
     ]
    }
   ],
   "source": [
    "#Question 6\n",
    "n = int(input('enter the number'))\n",
    "\n",
    "if n%2 == 0:\n",
    "    print('n is even')\n",
    "else:\n",
    "    print('n is odd')"
   ]
  },
  {
   "cell_type": "code",
   "execution_count": 8,
   "id": "5ab278e1-c0f8-44cf-bb25-a597baef6c0b",
   "metadata": {},
   "outputs": [
    {
     "name": "stdin",
     "output_type": "stream",
     "text": [
      "enter the number -8\n"
     ]
    },
    {
     "name": "stdout",
     "output_type": "stream",
     "text": [
      "8\n"
     ]
    }
   ],
   "source": [
    "#Question 7\n",
    "n = int(input('enter the number'))\n",
    "\n",
    "if n>0:\n",
    "    print(n)\n",
    "else:\n",
    "    print(n*-1)"
   ]
  },
  {
   "cell_type": "code",
   "execution_count": 55,
   "id": "5a11e26f-9188-446c-b3d5-ad76b5779cb4",
   "metadata": {},
   "outputs": [
    {
     "name": "stdout",
     "output_type": "stream",
     "text": [
      "3000000 is the largest\n"
     ]
    }
   ],
   "source": [
    "#Question 8\n",
    "a = 3000000\n",
    "b = 500\n",
    "c = 1000\n",
    "\n",
    "if a>b and a>c:\n",
    "    print(a, 'is the largest')  \n",
    "if b>a and b >c:\n",
    "    print(b,'is the largest')\n",
    "if c>a and c >b:\n",
    "    print(c, 'is the largest')"
   ]
  },
  {
   "cell_type": "code",
   "execution_count": 67,
   "id": "e8c25fa7-bfd4-45e3-b4ac-9d69eebc376a",
   "metadata": {},
   "outputs": [
    {
     "name": "stdin",
     "output_type": "stream",
     "text": [
      "enter the string ooooooooooo\n"
     ]
    },
    {
     "name": "stdout",
     "output_type": "stream",
     "text": [
      "a palindrome\n"
     ]
    }
   ],
   "source": [
    "#Question 9\n",
    "str(input('enter the string'))\n",
    "\n",
    "if string == string[::-1]:\n",
    "    print('a palindrome')\n",
    "else:\n",
    "    print('not a palindrome')"
   ]
  },
  {
   "cell_type": "code",
   "execution_count": 76,
   "id": "f5690b07-6536-4c68-890d-39e15411f648",
   "metadata": {},
   "outputs": [
    {
     "name": "stdin",
     "output_type": "stream",
     "text": [
      "enter the score 50\n"
     ]
    },
    {
     "name": "stdout",
     "output_type": "stream",
     "text": [
      "grade is F\n"
     ]
    }
   ],
   "source": [
    "#Question 10\n",
    "s = int(input('enter the score'))\n",
    "\n",
    "if s >= 80:\n",
    "    print('grade is A')\n",
    "if s> 70 and s <= 80:\n",
    "    print('grade is B')\n",
    "if s > 80 and s <=60:\n",
    "    print('grade is C')\n",
    "else:\n",
    "    print('grade is F')"
   ]
  },
  {
   "cell_type": "code",
   "execution_count": 4,
   "id": "a72998d9-4e2d-4138-b7a6-794d9cc54ae7",
   "metadata": {},
   "outputs": [
    {
     "name": "stdout",
     "output_type": "stream",
     "text": [
      "a is the largest number\n"
     ]
    }
   ],
   "source": [
    "#Question 11\n",
    "a = 300000000000000000000000000000000\n",
    "b = 10000000000000000000\n",
    "c = 500000\n",
    "\n",
    "if a > b:\n",
    "    if b> c:\n",
    "        print('a is the largest number')\n",
    "    else:\n",
    "        if a>c:\n",
    "            print('a is the largest number')\n",
    "        else:\n",
    "            print('c is the largest number')\n",
    "else:\n",
    "    if b>c:\n",
    "        print('b is the largest number')\n",
    "    else:\n",
    "        print('c is the largest number')\n",
    "            "
   ]
  },
  {
   "cell_type": "code",
   "execution_count": 22,
   "id": "7d09afb0-eb11-41b7-a2e2-def62880a437",
   "metadata": {},
   "outputs": [
    {
     "name": "stdin",
     "output_type": "stream",
     "text": [
      "enter the value of the angle a 90\n",
      "enter the value of the angle b 80\n"
     ]
    },
    {
     "name": "stdout",
     "output_type": "stream",
     "text": [
      "triangle is scalene\n"
     ]
    }
   ],
   "source": [
    "#Question 12\n",
    "a = float(input('enter the value of the angle a'))\n",
    "b = float(input('enter the value of the angle b'))\n",
    "c = 180-a-b\n",
    "\n",
    "#sum of angles of a triangle should be 180\n",
    "\n",
    "if a == b == c:\n",
    "    print('equilateral triangle')\n",
    "else:\n",
    "    if a == b or b ==c or c ==a:\n",
    "        print('triangle is isoceles')\n",
    "    else:\n",
    "        print('triangle is scalene')"
   ]
  },
  {
   "cell_type": "code",
   "execution_count": 23,
   "id": "3d889a5f-7b5d-4e0d-a62c-82345a299f88",
   "metadata": {},
   "outputs": [
    {
     "name": "stdin",
     "output_type": "stream",
     "text": [
      "enter the number of days in the year 366\n"
     ]
    },
    {
     "name": "stdout",
     "output_type": "stream",
     "text": [
      "it is a leap year\n"
     ]
    }
   ],
   "source": [
    "#Question 13\n",
    "a = int(input('enter the number of days in the year'))\n",
    "\n",
    "if a == 365:\n",
    "    print('not a leap year')\n",
    "else:\n",
    "    print('it is a leap year')"
   ]
  },
  {
   "cell_type": "code",
   "execution_count": 24,
   "id": "b42ed6f7-d150-43aa-9cef-990c42e81b34",
   "metadata": {},
   "outputs": [
    {
     "name": "stdin",
     "output_type": "stream",
     "text": [
      "enter the number .2\n"
     ]
    },
    {
     "name": "stdout",
     "output_type": "stream",
     "text": [
      "the number is positive\n"
     ]
    }
   ],
   "source": [
    "#Question 14\n",
    "a = float(input('enter the number'))\n",
    "\n",
    "if a == 0:\n",
    "    print('the number is zero')\n",
    "else:\n",
    "    if a > 0:\n",
    "        print('the number is positive')\n",
    "    else:\n",
    "        print('the number is negative')"
   ]
  },
  {
   "cell_type": "code",
   "execution_count": 25,
   "id": "540b87e0-5a35-4128-9144-8f9f0889f9b8",
   "metadata": {},
   "outputs": [
    {
     "name": "stdin",
     "output_type": "stream",
     "text": [
      "enter the age 6\n"
     ]
    },
    {
     "name": "stdout",
     "output_type": "stream",
     "text": [
      "child\n"
     ]
    }
   ],
   "source": [
    "#Question 15\n",
    "age = int(input('enter the age'))\n",
    "\n",
    "if  13 <= age <=19:\n",
    "    print('teenager')\n",
    "else:\n",
    "    if age > 19:\n",
    "        print('adult')\n",
    "    else:\n",
    "        print('child')"
   ]
  },
  {
   "cell_type": "code",
   "execution_count": 26,
   "id": "b0a5dcce-5a04-482a-b6ed-42d31cf1540e",
   "metadata": {},
   "outputs": [
    {
     "name": "stdin",
     "output_type": "stream",
     "text": [
      "enter the value of the angle a 60\n"
     ]
    },
    {
     "name": "stdout",
     "output_type": "stream",
     "text": [
      "angle is acute\n"
     ]
    }
   ],
   "source": [
    "#Question 16\n",
    "a = float(input('enter the value of the angle a'))\n",
    "\n",
    "if a == 90:\n",
    "    print('angle is right angle')\n",
    "else:\n",
    "    if a <90:\n",
    "        print('angle is acute angle')\n",
    "    else:\n",
    "        print('angle is obtuse angle')"
   ]
  },
  {
   "cell_type": "code",
   "execution_count": 37,
   "id": "03129b58-b64e-4598-a5ed-83b37577ed05",
   "metadata": {},
   "outputs": [
    {
     "name": "stdin",
     "output_type": "stream",
     "text": [
      "enter the value of a 1\n",
      "enter the value of b -7\n",
      "enter the value of c 10\n"
     ]
    },
    {
     "name": "stdout",
     "output_type": "stream",
     "text": [
      "5.0\n",
      "2.0\n"
     ]
    }
   ],
   "source": [
    "#Question 17\n",
    "\n",
    "#Quadratic equation is a*(x^2) + b*x + c = 0\n",
    "#there will be two roots determined by an equation stated in root1 and root2\n",
    "#we need 3 values a,b,c to find out the roots of a quadratic equation\n",
    "\n",
    "a = float(input('enter the value of a'))\n",
    "b = float(input('enter the value of b'))\n",
    "c = float(input('enter the value of c'))\n",
    "\n",
    "\n",
    "root1 = (-b+((b**2 -(4*a*c))**0.5))/(2*a)\n",
    "root2 = (-b- ((b**2 -(4*a*c))**0.5))/(2*a)\n",
    "\n",
    "print(root1)\n",
    "print(root2)"
   ]
  },
  {
   "cell_type": "code",
   "execution_count": 9,
   "id": "f1ca7536-c497-4698-982b-88867f1594b4",
   "metadata": {},
   "outputs": [
    {
     "name": "stdin",
     "output_type": "stream",
     "text": [
      "enter the number of the day 5\n"
     ]
    },
    {
     "name": "stdout",
     "output_type": "stream",
     "text": [
      "day is friday\n"
     ]
    }
   ],
   "source": [
    "#Question 18\n",
    "a = int(input('enter the number of the day'))\n",
    "\n",
    "if a ==1:\n",
    "    print('day is monday')\n",
    "if a==2:\n",
    "    print('day is tuesday')\n",
    "if a==3:\n",
    "    print('day is wednesday')\n",
    "if a==4:\n",
    "    print('day is thursday')\n",
    "if a==5:\n",
    "    print('day is friday')\n",
    "if a==6:\n",
    "    print('day is saturday')\n",
    "if a==7:\n",
    "    print('day is sunday')"
   ]
  },
  {
   "cell_type": "code",
   "execution_count": 12,
   "id": "ef06e506-940f-4078-ae7f-fb054c781fa6",
   "metadata": {},
   "outputs": [
    {
     "name": "stdin",
     "output_type": "stream",
     "text": [
      "enter the year 500\n"
     ]
    },
    {
     "name": "stdout",
     "output_type": "stream",
     "text": [
      "not a leap year\n"
     ]
    }
   ],
   "source": [
    "#Question 19\n",
    "year = int(input('enter the year'))\n",
    "\n",
    "if year%400 == 0:\n",
    "    print('it is a leap year')\n",
    "else:\n",
    "    print('not a leap year')"
   ]
  },
  {
   "cell_type": "code",
   "execution_count": 1,
   "id": "9e64e34a-bb24-4bd3-9432-59009a34dfcf",
   "metadata": {},
   "outputs": [
    {
     "name": "stdin",
     "output_type": "stream",
     "text": [
      "enter the number 4\n"
     ]
    },
    {
     "name": "stdout",
     "output_type": "stream",
     "text": [
      "not a prime\n"
     ]
    }
   ],
   "source": [
    "#Question 20\n",
    "n = int(input('enter the number'))\n",
    "\n",
    "for i in range(2,n):\n",
    "    if n%i == 0:\n",
    "        print('not a prime')\n",
    "        break\n",
    "else:\n",
    "        print('a prime number')"
   ]
  },
  {
   "cell_type": "code",
   "execution_count": null,
   "id": "7270afaa-d103-4b86-88ff-bb3a5933519d",
   "metadata": {},
   "outputs": [],
   "source": [
    "#Elif statements"
   ]
  },
  {
   "cell_type": "code",
   "execution_count": 8,
   "id": "5c18c9d2-707f-4714-8aa1-6cc9ba7ffbe6",
   "metadata": {},
   "outputs": [
    {
     "name": "stdin",
     "output_type": "stream",
     "text": [
      "enter the score 35\n"
     ]
    },
    {
     "name": "stdout",
     "output_type": "stream",
     "text": [
      "grade is F\n"
     ]
    }
   ],
   "source": [
    "#Question 21\n",
    "\n",
    "s = int(input('enter the score'))\n",
    "\n",
    "if s >= 80:\n",
    "    print('grade is A')\n",
    "elif s> 70 and s <= 80:\n",
    "    print('grade is B')\n",
    "elif s > 80 and s <=60:\n",
    "    print('grade is C')\n",
    "else:\n",
    "    print('grade is F')"
   ]
  },
  {
   "cell_type": "code",
   "execution_count": 16,
   "id": "c2e3988f-36e1-4053-89d7-9d41d22b1c84",
   "metadata": {},
   "outputs": [
    {
     "name": "stdin",
     "output_type": "stream",
     "text": [
      "enter angle a 30\n",
      "enter angle b 25\n"
     ]
    },
    {
     "name": "stdout",
     "output_type": "stream",
     "text": [
      "obtuse triangle\n"
     ]
    }
   ],
   "source": [
    "#Question 22\n",
    "\n",
    "a = float(input('enter angle a'))\n",
    "b = float(input('enter angle b'))\n",
    "c = 180-a-b\n",
    "\n",
    "if a==b==c:\n",
    "    print('equilateral triangle')\n",
    "elif a ==90 or b==90 or c==90:\n",
    "    print('right angled triangle')\n",
    "elif a>90 or b >90 or c>90:\n",
    "    print('obtuse triangle')\n",
    "elif a==b or b==c or c==a:\n",
    "    print('isoceles triangle')\n",
    "elif a< 90 and b<90 and c < 90:\n",
    "    print('acute angled triangle')\n",
    "else:\n",
    "    print('scalene triangle')"
   ]
  },
  {
   "cell_type": "code",
   "execution_count": 18,
   "id": "213603fc-b2cc-4400-b4c5-b47ce9633f39",
   "metadata": {},
   "outputs": [
    {
     "name": "stdin",
     "output_type": "stream",
     "text": [
      "enter the BMI 20\n"
     ]
    },
    {
     "name": "stdout",
     "output_type": "stream",
     "text": [
      "healthy weight\n"
     ]
    }
   ],
   "source": [
    "#Question 23\n",
    "\n",
    "BMI = float(input('enter the BMI'))\n",
    "\n",
    "if BMI <= 18.5:\n",
    "    print('underweight')\n",
    "elif 18.5 < BMI <=24.9:\n",
    "    print('healthy weight')\n",
    "elif 24.9 < BMI <= 29.9:\n",
    "    print('overweight')\n",
    "else:\n",
    "    print('obese')"
   ]
  },
  {
   "cell_type": "code",
   "execution_count": null,
   "id": "37c14515-9c06-498f-a42b-128f98ece825",
   "metadata": {},
   "outputs": [],
   "source": [
    "#Question 24\n",
    "\n",
    "a = float(input('enter the number'))\n",
    "\n",
    "if a==0:\n",
    "    print('number is zero')\n",
    "elif a>0:\n",
    "    print('number is positive')\n",
    "else:\n",
    "    print('number is negative')"
   ]
  },
  {
   "cell_type": "code",
   "execution_count": 3,
   "id": "37a1ded7-674f-4758-adfb-d813895a8915",
   "metadata": {},
   "outputs": [
    {
     "name": "stdout",
     "output_type": "stream",
     "text": [
      "50\n"
     ]
    }
   ],
   "source": [
    "#Question 26\n",
    "\n",
    "p = 50\n",
    "\n",
    "if p >= 500:\n",
    "    dp = (1-0.1)*p\n",
    "elif 250<p<500:\n",
    "    dp = (1-0.05)*p\n",
    "else:\n",
    "    dp = (1-0)*p\n",
    "\n",
    "print(dp)"
   ]
  },
  {
   "cell_type": "code",
   "execution_count": 1,
   "id": "360da876-c257-43b3-8294-caaabcf09dfb",
   "metadata": {},
   "outputs": [
    {
     "name": "stdout",
     "output_type": "stream",
     "text": [
      "1500\n"
     ]
    }
   ],
   "source": [
    "#Question 27\n",
    "\n",
    "units = 300\n",
    "\n",
    "if units<=100:\n",
    "    bill = 3*units\n",
    "elif 100 <units <=200:\n",
    "    bill = 4*units\n",
    "elif 200<units<=400:\n",
    "    bill = 5*units\n",
    "else:\n",
    "    bill = 6*units\n",
    "\n",
    "print(bill)"
   ]
  },
  {
   "cell_type": "code",
   "execution_count": 8,
   "id": "5a3915eb-8e39-4962-95c0-32caec8c884b",
   "metadata": {},
   "outputs": [
    {
     "name": "stdin",
     "output_type": "stream",
     "text": [
      "length of ab 1\n",
      "length of bc 1\n",
      "length of cd 1\n",
      "length of da 1\n"
     ]
    },
    {
     "name": "stdout",
     "output_type": "stream",
     "text": [
      "kite\n"
     ]
    }
   ],
   "source": [
    "#Question 28\n",
    "#a,b,c,d are angles of a quadrilateral\n",
    "a,b,c = 20,30,100\n",
    "d =(360-a-b-c)\n",
    "\n",
    "#ab,bc,cd,da are sides of a quadrilateral\n",
    "ab= float(input('length of ab'))\n",
    "bc= float(input('length of bc'))\n",
    "cd= float(input('length of cd'))\n",
    "da= float(input('length of da'))\n",
    "           \n",
    "           \n",
    "if a==b==c==d and ab==cd and bc==da:\n",
    "    print('rectangle')\n",
    "elif a==c and b ==d and c!=b:\n",
    "    print('parallelogram')\n",
    "elif  a==c and b ==d and c!=b and ab == cd and bc == da:\n",
    "    print('rhombus')\n",
    "elif a==b==c==d and ab==bc==cd==da:\n",
    "    print('square')\n",
    "else:\n",
    "    print('kite')"
   ]
  },
  {
   "cell_type": "code",
   "execution_count": 16,
   "id": "921ae47f-0ad6-4c04-947a-ea4639dd4605",
   "metadata": {},
   "outputs": [
    {
     "name": "stdin",
     "output_type": "stream",
     "text": [
      "enter the month ew\n"
     ]
    },
    {
     "name": "stdout",
     "output_type": "stream",
     "text": [
      "winter\n"
     ]
    }
   ],
   "source": [
    "#Question 29\n",
    "\n",
    "month = input('enter the month')\n",
    "\n",
    "if month == 'Dec' or 'Jan' or 'Feb' or 'Mar':\n",
    "    print('winter')\n",
    "elif month == 'Apr' or 'May' or 'Jun':\n",
    "    print('Summer')\n",
    "else:\n",
    "    print('rainy')"
   ]
  },
  {
   "cell_type": "code",
   "execution_count": null,
   "id": "95a2c048-cfcf-4d88-b62f-97de948fa391",
   "metadata": {},
   "outputs": [],
   "source": [
    "#Question 30\n",
    "year = int(input('enter the year'))\n",
    "month = input('enter the month')\n",
    "\n",
    "if year%400:\n",
    "    print('it is leap year')\n",
    "else:\n",
    "    print('not a leap year')\n",
    "if month == 'Jan' or 'Mar' or 'May' or 'July' or 'Aug' or 'Oct' or 'Dec':\n",
    "    print('month has 31 days')\n",
    "else:\n",
    "    print('month has 30 days')"
   ]
  },
  {
   "cell_type": "code",
   "execution_count": null,
   "id": "d2fbbff1-6a84-46a0-a83f-563e986f3d39",
   "metadata": {},
   "outputs": [],
   "source": [
    "Basic level\n",
    "#Question 1\n",
    "a = float(input('enter the number'))\n",
    "\n",
    "if a==0:\n",
    "    print('number is zero')\n",
    "elif a>0:\n",
    "    print('number is positive')\n",
    "else:\n",
    "    print('number is negative')\n"
   ]
  },
  {
   "cell_type": "code",
   "execution_count": null,
   "id": "4b2c390a-388e-4aec-94c1-1bc2c350bf37",
   "metadata": {},
   "outputs": [],
   "source": [
    "#Question 2\n",
    "n = float(input('enter the age'))\n",
    "\n",
    "if n>= 18:\n",
    "    print('you can vote')\n",
    "else:\n",
    "    print('you cannot vote')"
   ]
  },
  {
   "cell_type": "code",
   "execution_count": null,
   "id": "6e75aa63-8717-485f-8dcc-48039a4b7f44",
   "metadata": {},
   "outputs": [],
   "source": [
    "#Question 3\n",
    "a = 30\n",
    "b = 40\n",
    "\n",
    "if a==b:\n",
    "    print('numbers are equal')\n",
    "elif a > b:\n",
    "    print('a is greater than b')\n",
    "else:\n",
    "    print('b is greater than a')"
   ]
  },
  {
   "cell_type": "code",
   "execution_count": null,
   "id": "bc7ac2f6-54ec-4484-b8bf-7091cd7591da",
   "metadata": {},
   "outputs": [],
   "source": [
    "#Question 4\n",
    "s = int(input('enter the score'))\n",
    "\n",
    "if s >= 80:\n",
    "    print('grade is A')\n",
    "if s> 70 and s <= 80:\n",
    "    print('grade is B')\n",
    "if s > 80 and s <=60:\n",
    "    print('grade is C')\n",
    "else:\n",
    "    print('grade is F')"
   ]
  },
  {
   "cell_type": "code",
   "execution_count": null,
   "id": "54e02637-ac09-4926-b540-e881958effa4",
   "metadata": {},
   "outputs": [],
   "source": [
    "#Question 5\n",
    "\n",
    "year = int(input('enter the year'))\n",
    "\n",
    "if year%400 == 0:\n",
    "    print('it is a leap year')\n",
    "else:\n",
    "    print('not a leap year')"
   ]
  },
  {
   "cell_type": "code",
   "execution_count": null,
   "id": "e4a9f12c-3563-49eb-98f8-2e4e1d6e257e",
   "metadata": {},
   "outputs": [],
   "source": [
    "#Question 6\n",
    "\n",
    "ab = float(input('enter the value of the side ab'))\n",
    "bc = float(input('enter the value of the side bc'))\n",
    "ca = float(input('enter the value of the side ca'))\n",
    "\n",
    "if ab == bc == ca:\n",
    "    print('equilateral triangle')\n",
    "else:\n",
    "    if ab == bc or bc ==ca or ca ==ab:\n",
    "        print('triangle is isoceles')\n",
    "    else:\n",
    "        print('triangle is scalene')"
   ]
  },
  {
   "cell_type": "code",
   "execution_count": null,
   "id": "0b17cbe3-526e-442e-b01e-37a163d77597",
   "metadata": {},
   "outputs": [],
   "source": [
    "#Question 7\n",
    "\n",
    "a = 500000\n",
    "b = 30\n",
    "c = 200000\n",
    "\n",
    "if a>b and a>c:\n",
    "    print(a, 'is the largest')  \n",
    "if b>a and b >c:\n",
    "    print(b,'is the largest')\n",
    "if c>a and c >b:\n",
    "    print(c, 'is the largest')"
   ]
  },
  {
   "cell_type": "code",
   "execution_count": null,
   "id": "def1a896-6c92-484d-bf5d-4214f8455c5f",
   "metadata": {},
   "outputs": [],
   "source": [
    "#Question 8\n",
    "\n",
    "character = 't'\n",
    "vowels = ['a','e','i','o','u']\n",
    "\n",
    "if i in vowels:\n",
    "    print(character, 'is a vowel')\n",
    "else:\n",
    "    print(character,'is a consonant')"
   ]
  },
  {
   "cell_type": "code",
   "execution_count": null,
   "id": "ba06e46d-3ab1-4e0c-8a06-95cb6f7082bd",
   "metadata": {},
   "outputs": [],
   "source": [
    "#Question 10\n",
    "\n",
    "n = int(input('enter the number'))\n",
    "\n",
    "if n%2 == 0:\n",
    "    print('n is even')\n",
    "else:\n",
    "    print('n is odd')"
   ]
  },
  {
   "cell_type": "code",
   "execution_count": null,
   "id": "9a73174c-384a-438d-9199-6eb983393e22",
   "metadata": {},
   "outputs": [],
   "source": [
    "#Question 11\n",
    "\n",
    "#Quadratic equation is a*(x^2) + b*x + c = 0\n",
    "#there will be two roots determined by an equation stated in root1 and root2\n",
    "#we need 3 values a,b,c to find out the roots of a quadratic equation\n",
    "\n",
    "a = float(input('enter the value of a'))\n",
    "b = float(input('enter the value of b'))\n",
    "c = float(input('enter the value of c'))\n",
    "\n",
    "\n",
    "root1 = (-b+((b**2 -(4*a*c))**0.5))/(2*a)\n",
    "root2 = (-b- ((b**2 -(4*a*c))**0.5))/(2*a)\n",
    "\n",
    "print(root1)\n",
    "print(root2)"
   ]
  },
  {
   "cell_type": "code",
   "execution_count": null,
   "id": "104fed47-93c5-47f3-8c4f-b1b24351ce96",
   "metadata": {},
   "outputs": [],
   "source": [
    "#Question 12\n",
    "\n",
    "a = int(input('enter the number of the day'))\n",
    "\n",
    "if a ==1:\n",
    "    print('day is monday')\n",
    "if a==2:\n",
    "    print('day is tuesday')\n",
    "if a==3:\n",
    "    print('day is wednesday')\n",
    "if a==4:\n",
    "    print('day is thursday')\n",
    "if a==5:\n",
    "    print('day is friday')\n",
    "if a==6:\n",
    "    print('day is saturday')\n",
    "if a==7:\n",
    "    print('day is sunday')"
   ]
  },
  {
   "cell_type": "code",
   "execution_count": null,
   "id": "ce671bbd-bdc3-40c7-8a4e-9f6e93ef6392",
   "metadata": {},
   "outputs": [],
   "source": [
    "#Question 13\n",
    "n = int(input('Enter the number'))\n",
    "fac =1\n",
    "for i in range(1,n+1):\n",
    "    fac = fac*i\n",
    "    \n",
    "print(fac)"
   ]
  },
  {
   "cell_type": "code",
   "execution_count": null,
   "id": "ed9fc914-8c7d-4f34-abd3-f3548b4eed4c",
   "metadata": {},
   "outputs": [],
   "source": [
    "#Question 14\n",
    "\n",
    "a = 500000\n",
    "b = 30\n",
    "c = 200000\n",
    "\n",
    "if a>b and a>c:\n",
    "    print(a, 'is the largest')  \n",
    "if b>a and b >c:\n",
    "    print(b,'is the largest')\n",
    "if c>a and c >b:\n",
    "    print(c, 'is the largest')"
   ]
  },
  {
   "cell_type": "code",
   "execution_count": null,
   "id": "d191a8f1-eaa2-4d12-9bc1-9476a5b952f2",
   "metadata": {},
   "outputs": [],
   "source": [
    "#Question 15\n",
    "\n",
    "a = input('enter your card')\n",
    "\n",
    "if a == 'yes':\n",
    "    input('enter your pin')"
   ]
  },
  {
   "cell_type": "code",
   "execution_count": null,
   "id": "4f51e506-89fd-4b38-9718-d536d12d2895",
   "metadata": {},
   "outputs": [],
   "source": [
    "#Question 16\n",
    "\n",
    "str(input('enter the string'))\n",
    "\n",
    "if string == string[::-1]:\n",
    "    print('a palindrome')\n",
    "else:\n",
    "    print('not a palindrome')"
   ]
  },
  {
   "cell_type": "code",
   "execution_count": null,
   "id": "244ea3f8-4f3f-4391-a233-266ecca3d8b5",
   "metadata": {},
   "outputs": [],
   "source": [
    "#Question 17\n",
    "l = [1,2,3,4,5,6]\n",
    "d = []\n",
    "m =[]\n",
    "l1 = l.sort()\n",
    "largest_num = l1[-1]\n",
    "smallest_num = l1[0]\n",
    "add = 0\n",
    "for i in l:\n",
    "    if i == largest_num or i == smallest_num:\n",
    "        m.append(i)\n",
    "    else:\n",
    "        d.append(i)\n",
    "\n",
    "for j in d:\n",
    "    add = add+j\n",
    "\n",
    "for k in d:\n",
    "    count = count+k\n",
    "    \n",
    "\n",
    "average = add/count\n",
    "\n",
    "print(average)\n",
    "        \n"
   ]
  },
  {
   "cell_type": "code",
   "execution_count": null,
   "id": "3b9fb996-1a89-4b79-9489-b755d93a8173",
   "metadata": {},
   "outputs": [],
   "source": [
    "#Question 18\n",
    "c = 30\n",
    "\n",
    "farenheit = (c*(9/5)) + 32\n",
    "\n",
    "print(farenheit)"
   ]
  },
  {
   "cell_type": "code",
   "execution_count": null,
   "id": "ad7d8cdb-cbc3-497e-9689-4ee8d548700f",
   "metadata": {},
   "outputs": [],
   "source": [
    "#Question 19\n",
    "\n",
    "a = float(input('enter the first number'))\n",
    "b = float(input('enter the second number'))\n",
    "c = str(input('enter the activity'))\n",
    "\n",
    "if c == 'mul':\n",
    "    mul = a*b\n",
    "    print(mul)\n",
    "elif c == 'sub':\n",
    "    sub = a-b\n",
    "    print(sub)\n",
    "elif c == 'add':\n",
    "    add = a+b\n",
    "    print(add)"
   ]
  },
  {
   "cell_type": "code",
   "execution_count": 4,
   "id": "ed59036f-cdd7-4b26-b18d-2d6bae0f71c7",
   "metadata": {},
   "outputs": [
    {
     "name": "stdin",
     "output_type": "stream",
     "text": [
      "enter income in rupees 500000\n"
     ]
    },
    {
     "data": {
      "text/plain": [
       "12500.0"
      ]
     },
     "execution_count": 4,
     "metadata": {},
     "output_type": "execute_result"
    }
   ],
   "source": [
    "#Question 21\n",
    "i = int(input('enter income in rupees'))\n",
    "\n",
    "if i <=250000:\n",
    "    tax = 0\n",
    "elif 250000<i<=500000:\n",
    "    tax = (i-250000)*0.05\n",
    "elif 500000 <i<=750000:\n",
    "    tax = (500000-250000)*0.05 + (i-500000)*0.1\n",
    "elif 750000<i<=1000000:\n",
    "    tax = (500000-250000)*0.05 + (500000-750000)*0.1 + (i- 750000)*0.2\n",
    "else:\n",
    "    tax = (500000-250000)*0.05 + (500000-750000)*0.1 + (1000000- 750000)*0.2 + (i-1000000)*0.3\n",
    "\n",
    "tax"
   ]
  },
  {
   "cell_type": "code",
   "execution_count": 12,
   "id": "49d35fa6-bdb3-4e20-a9ac-aa033b738fec",
   "metadata": {},
   "outputs": [
    {
     "name": "stdin",
     "output_type": "stream",
     "text": [
      "enter the year 37\n"
     ]
    },
    {
     "name": "stdout",
     "output_type": "stream",
     "text": [
      "year is a prime number\n"
     ]
    }
   ],
   "source": [
    "#Question 27\n",
    "\n",
    "year = int(input('enter the year'))\n",
    "\n",
    "for i in range(2,year):\n",
    "    if year%i == 0:\n",
    "        print('year is not prime number')\n",
    "        break\n",
    "else:\n",
    "        print('year is a prime number')"
   ]
  },
  {
   "cell_type": "code",
   "execution_count": 16,
   "id": "ec0b6b25-354c-47ce-b7a4-5b218d60b47d",
   "metadata": {},
   "outputs": [
    {
     "name": "stdin",
     "output_type": "stream",
     "text": [
      "enter the number 1 90\n",
      "enter the number 2 1\n",
      "enter the number 3 50000\n"
     ]
    },
    {
     "name": "stdout",
     "output_type": "stream",
     "text": [
      "[50000, 90, 1]\n"
     ]
    }
   ],
   "source": [
    "#Question 28\n",
    "a = int(input('enter the number 1'))\n",
    "b = int(input('enter the number 2'))\n",
    "c = int(input('enter the number 3'))\n",
    "l=[]\n",
    "\n",
    "if a> b and b>c:\n",
    "    largest,intermediate,smallest = a,b,c\n",
    "elif a >b and a <c:\n",
    "    largest,intermediate,smallest = c,a,b\n",
    "elif b>a and c>a:\n",
    "    largest,intermediate,smallest = c,a,b\n",
    "    \n",
    "l = [largest,intermediate,smallest]\n",
    "print(l)"
   ]
  },
  {
   "cell_type": "code",
   "execution_count": null,
   "id": "49308e2d-77dc-462d-8797-4aaaf3667532",
   "metadata": {},
   "outputs": [],
   "source": [
    "#Question 30\n",
    "\n",
    "BMI = float(input('enter the BMI'))\n",
    "\n",
    "if BMI <= 18.5:\n",
    "    print('underweight, hence you should eat healthy and gain weight')\n",
    "elif 18.5 < BMI <=24.9:\n",
    "    print('healthy weight, maintain it and exercise regularly')\n",
    "elif 24.9 < BMI <= 29.9:\n",
    "    print('overweight, reduce it, exercise, eat healthy')\n",
    "else:\n",
    "    print('obese, reduce weight drastically, try keto, exercise, change your lifestyle')"
   ]
  }
 ],
 "metadata": {
  "kernelspec": {
   "display_name": "Python 3 (ipykernel)",
   "language": "python",
   "name": "python3"
  },
  "language_info": {
   "codemirror_mode": {
    "name": "ipython",
    "version": 3
   },
   "file_extension": ".py",
   "mimetype": "text/x-python",
   "name": "python",
   "nbconvert_exporter": "python",
   "pygments_lexer": "ipython3",
   "version": "3.10.8"
  }
 },
 "nbformat": 4,
 "nbformat_minor": 5
}
